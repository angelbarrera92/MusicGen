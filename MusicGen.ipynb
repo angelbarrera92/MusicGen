{
    "cells": [
        {
            "cell_type": "markdown",
            "metadata": {
                "id": "view-in-github"
            },
            "source": [
                "[![Open In Colab](https://colab.research.google.com/assets/colab-badge.svg)](https://colab.research.google.com/github/angelbarrera92/MusicGen/blob/main/MusicGen.ipynb)"
            ]
        },
        {
            "cell_type": "code",
            "execution_count": null,
            "metadata": {},
            "outputs": [],
            "source": [
                "from google.colab import drive\n",
                "import os\n",
                "drive.mount('/content/gdrive')\n",
                "os.environ[\"AUDIOCRAFT_CACHE_DIR\"] = \"/content/gdrive/MyDrive/colab/audiocraft_cache\""
            ]
        },
        {
            "cell_type": "code",
            "execution_count": null,
            "metadata": {},
            "outputs": [],
            "source": [
                "%cd /content\n",
                "!git clone https://github.com/angelbarrera92/MusicGen.git\n",
                "%cd /content/MusicGen\n",
                "!pip install -r requirements.txt\n",
                "!python MusicGen.py --share"
            ]
        }
    ],
    "metadata": {
        "accelerator": "GPU",
        "colab": {
            "gpuType": "T4",
            "provenance": []
        },
        "kernelspec": {
            "display_name": "Python 3",
            "name": "python3"
        },
        "language_info": {
            "name": "python"
        }
    },
    "nbformat": 4,
    "nbformat_minor": 0
}
